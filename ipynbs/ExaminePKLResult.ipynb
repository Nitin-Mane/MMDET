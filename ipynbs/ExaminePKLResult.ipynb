{
 "cells": [
  {
   "cell_type": "code",
   "execution_count": 1,
   "metadata": {
    "collapsed": true
   },
   "outputs": [],
   "source": [
    "import mmcv\n",
    "import os\n",
    "from os import path as osp\n",
    "from matplotlib import pyplot as plt\n",
    "import xml.dom.minidom as minidom\n",
    "import numpy as np\n",
    "import PIL\n",
    "from tqdm import tqdm\n",
    "import subprocess"
   ]
  },
  {
   "cell_type": "code",
   "execution_count": 2,
   "metadata": {
    "collapsed": true
   },
   "outputs": [],
   "source": [
    "vids = ['ILSVRC2015_val_00000000', 'ILSVRC2015_val_00000001', 'ILSVRC2015_val_00000002', 'ILSVRC2015_val_00000003', 'ILSVRC2015_val_00000004', 'ILSVRC2015_val_00000005', 'ILSVRC2015_val_00001000', 'ILSVRC2015_val_00002000', 'ILSVRC2015_val_00003000', 'ILSVRC2015_val_00003001', 'ILSVRC2015_val_00004000', 'ILSVRC2015_val_00005000', 'ILSVRC2015_val_00005001', 'ILSVRC2015_val_00005002', 'ILSVRC2015_val_00005003', 'ILSVRC2015_val_00006000', 'ILSVRC2015_val_00006001', 'ILSVRC2015_val_00006002', 'ILSVRC2015_val_00006003', 'ILSVRC2015_val_00006004', 'ILSVRC2015_val_00006005', 'ILSVRC2015_val_00007000', 'ILSVRC2015_val_00007001', 'ILSVRC2015_val_00007002', 'ILSVRC2015_val_00007003', 'ILSVRC2015_val_00007004', 'ILSVRC2015_val_00007005', 'ILSVRC2015_val_00007006', 'ILSVRC2015_val_00007007', 'ILSVRC2015_val_00007008', 'ILSVRC2015_val_00007009', 'ILSVRC2015_val_00007010', 'ILSVRC2015_val_00007011', 'ILSVRC2015_val_00007012', 'ILSVRC2015_val_00007013', 'ILSVRC2015_val_00007014', 'ILSVRC2015_val_00007015', 'ILSVRC2015_val_00007016', 'ILSVRC2015_val_00007017', 'ILSVRC2015_val_00007018', 'ILSVRC2015_val_00007019', 'ILSVRC2015_val_00007020', 'ILSVRC2015_val_00007021', 'ILSVRC2015_val_00007022', 'ILSVRC2015_val_00007023', 'ILSVRC2015_val_00007024', 'ILSVRC2015_val_00007025', 'ILSVRC2015_val_00007026', 'ILSVRC2015_val_00007027', 'ILSVRC2015_val_00007028', 'ILSVRC2015_val_00007029', 'ILSVRC2015_val_00007030', 'ILSVRC2015_val_00007031', 'ILSVRC2015_val_00007032', 'ILSVRC2015_val_00007033', 'ILSVRC2015_val_00007034', 'ILSVRC2015_val_00007035', 'ILSVRC2015_val_00007036', 'ILSVRC2015_val_00007037', 'ILSVRC2015_val_00007038', 'ILSVRC2015_val_00007039', 'ILSVRC2015_val_00007040', 'ILSVRC2015_val_00007041', 'ILSVRC2015_val_00007042', 'ILSVRC2015_val_00007043', 'ILSVRC2015_val_00007044', 'ILSVRC2015_val_00007045', 'ILSVRC2015_val_00008000', 'ILSVRC2015_val_00008001', 'ILSVRC2015_val_00008002', 'ILSVRC2015_val_00009000', 'ILSVRC2015_val_00009001', 'ILSVRC2015_val_00010000', 'ILSVRC2015_val_00010001', 'ILSVRC2015_val_00010002', 'ILSVRC2015_val_00010003', 'ILSVRC2015_val_00011000', 'ILSVRC2015_val_00011001', 'ILSVRC2015_val_00011002', 'ILSVRC2015_val_00011003', 'ILSVRC2015_val_00011004', 'ILSVRC2015_val_00011005', 'ILSVRC2015_val_00011006', 'ILSVRC2015_val_00011007', 'ILSVRC2015_val_00011008', 'ILSVRC2015_val_00011009', 'ILSVRC2015_val_00012000', 'ILSVRC2015_val_00012001', 'ILSVRC2015_val_00012002', 'ILSVRC2015_val_00013000', 'ILSVRC2015_val_00013001', 'ILSVRC2015_val_00013002', 'ILSVRC2015_val_00014000', 'ILSVRC2015_val_00015000', 'ILSVRC2015_val_00015001', 'ILSVRC2015_val_00015002', 'ILSVRC2015_val_00016000', 'ILSVRC2015_val_00016001', 'ILSVRC2015_val_00016002', 'ILSVRC2015_val_00016003', 'ILSVRC2015_val_00016004', 'ILSVRC2015_val_00016005', 'ILSVRC2015_val_00016006', 'ILSVRC2015_val_00016007', 'ILSVRC2015_val_00016008', 'ILSVRC2015_val_00016009', 'ILSVRC2015_val_00016010', 'ILSVRC2015_val_00016011', 'ILSVRC2015_val_00016012', 'ILSVRC2015_val_00016013', 'ILSVRC2015_val_00017000', 'ILSVRC2015_val_00017001', 'ILSVRC2015_val_00018000', 'ILSVRC2015_val_00018001', 'ILSVRC2015_val_00019000', 'ILSVRC2015_val_00019001', 'ILSVRC2015_val_00019002', 'ILSVRC2015_val_00019003', 'ILSVRC2015_val_00020000', 'ILSVRC2015_val_00020001', 'ILSVRC2015_val_00020002', 'ILSVRC2015_val_00020003', 'ILSVRC2015_val_00020004', 'ILSVRC2015_val_00020005', 'ILSVRC2015_val_00020006', 'ILSVRC2015_val_00020007', 'ILSVRC2015_val_00020008', 'ILSVRC2015_val_00020009', 'ILSVRC2015_val_00020010', 'ILSVRC2015_val_00020011', 'ILSVRC2015_val_00021000', 'ILSVRC2015_val_00021001', 'ILSVRC2015_val_00021002', 'ILSVRC2015_val_00021003', 'ILSVRC2015_val_00021004', 'ILSVRC2015_val_00021005', 'ILSVRC2015_val_00021006', 'ILSVRC2015_val_00021007', 'ILSVRC2015_val_00021008', 'ILSVRC2015_val_00021009', 'ILSVRC2015_val_00022000', 'ILSVRC2015_val_00023000', 'ILSVRC2015_val_00023001', 'ILSVRC2015_val_00023002', 'ILSVRC2015_val_00023003', 'ILSVRC2015_val_00023004', 'ILSVRC2015_val_00023005', 'ILSVRC2015_val_00023006', 'ILSVRC2015_val_00023007', 'ILSVRC2015_val_00023008', 'ILSVRC2015_val_00023009', 'ILSVRC2015_val_00023010', 'ILSVRC2015_val_00023011', 'ILSVRC2015_val_00023012', 'ILSVRC2015_val_00023013', 'ILSVRC2015_val_00024000', 'ILSVRC2015_val_00024001', 'ILSVRC2015_val_00024002', 'ILSVRC2015_val_00024003', 'ILSVRC2015_val_00025000', 'ILSVRC2015_val_00025001', 'ILSVRC2015_val_00026000', 'ILSVRC2015_val_00026001', 'ILSVRC2015_val_00026002', 'ILSVRC2015_val_00026003', 'ILSVRC2015_val_00027000', 'ILSVRC2015_val_00028000', 'ILSVRC2015_val_00028001', 'ILSVRC2015_val_00028002', 'ILSVRC2015_val_00028003', 'ILSVRC2015_val_00028004', 'ILSVRC2015_val_00028005', 'ILSVRC2015_val_00029000', 'ILSVRC2015_val_00029001', 'ILSVRC2015_val_00029002', 'ILSVRC2015_val_00030000', 'ILSVRC2015_val_00030001', 'ILSVRC2015_val_00030002', 'ILSVRC2015_val_00031000', 'ILSVRC2015_val_00031001', 'ILSVRC2015_val_00031002', 'ILSVRC2015_val_00031003', 'ILSVRC2015_val_00032000', 'ILSVRC2015_val_00032001', 'ILSVRC2015_val_00032002', 'ILSVRC2015_val_00032003', 'ILSVRC2015_val_00033000', 'ILSVRC2015_val_00033001', 'ILSVRC2015_val_00033002', 'ILSVRC2015_val_00034000', 'ILSVRC2015_val_00035000', 'ILSVRC2015_val_00035001', 'ILSVRC2015_val_00035002', 'ILSVRC2015_val_00035003', 'ILSVRC2015_val_00035004', 'ILSVRC2015_val_00035005', 'ILSVRC2015_val_00035006', 'ILSVRC2015_val_00035007', 'ILSVRC2015_val_00035008', 'ILSVRC2015_val_00035009', 'ILSVRC2015_val_00035010', 'ILSVRC2015_val_00035011', 'ILSVRC2015_val_00035012', 'ILSVRC2015_val_00035013', 'ILSVRC2015_val_00035014', 'ILSVRC2015_val_00035015', 'ILSVRC2015_val_00035016', 'ILSVRC2015_val_00036000', 'ILSVRC2015_val_00036001', 'ILSVRC2015_val_00036002', 'ILSVRC2015_val_00036003', 'ILSVRC2015_val_00036004', 'ILSVRC2015_val_00036005', 'ILSVRC2015_val_00036006', 'ILSVRC2015_val_00036007', 'ILSVRC2015_val_00036008', 'ILSVRC2015_val_00036009', 'ILSVRC2015_val_00036010', 'ILSVRC2015_val_00037000', 'ILSVRC2015_val_00037001', 'ILSVRC2015_val_00037002', 'ILSVRC2015_val_00037003', 'ILSVRC2015_val_00037004', 'ILSVRC2015_val_00037005', 'ILSVRC2015_val_00037006', 'ILSVRC2015_val_00037007', 'ILSVRC2015_val_00037008', 'ILSVRC2015_val_00038000', 'ILSVRC2015_val_00038001', 'ILSVRC2015_val_00038002', 'ILSVRC2015_val_00038003', 'ILSVRC2015_val_00038004', 'ILSVRC2015_val_00038005', 'ILSVRC2015_val_00039000', 'ILSVRC2015_val_00039001', 'ILSVRC2015_val_00039002', 'ILSVRC2015_val_00039003', 'ILSVRC2015_val_00039004', 'ILSVRC2015_val_00039005', 'ILSVRC2015_val_00040000', 'ILSVRC2015_val_00040001', 'ILSVRC2015_val_00041000', 'ILSVRC2015_val_00041001', 'ILSVRC2015_val_00041002', 'ILSVRC2015_val_00041003', 'ILSVRC2015_val_00041004', 'ILSVRC2015_val_00041005', 'ILSVRC2015_val_00041006', 'ILSVRC2015_val_00041007', 'ILSVRC2015_val_00041008', 'ILSVRC2015_val_00041009', 'ILSVRC2015_val_00041010', 'ILSVRC2015_val_00041011', 'ILSVRC2015_val_00041012', 'ILSVRC2015_val_00041013', 'ILSVRC2015_val_00042000', 'ILSVRC2015_val_00042001', 'ILSVRC2015_val_00042002', 'ILSVRC2015_val_00042003', 'ILSVRC2015_val_00042004', 'ILSVRC2015_val_00042005', 'ILSVRC2015_val_00042006', 'ILSVRC2015_val_00042007', 'ILSVRC2015_val_00042008', 'ILSVRC2015_val_00042009', 'ILSVRC2015_val_00042010', 'ILSVRC2015_val_00042011', 'ILSVRC2015_val_00042012', 'ILSVRC2015_val_00042013', 'ILSVRC2015_val_00042014', 'ILSVRC2015_val_00042015', 'ILSVRC2015_val_00042016', 'ILSVRC2015_val_00042017', 'ILSVRC2015_val_00042018', 'ILSVRC2015_val_00042019', 'ILSVRC2015_val_00043000', 'ILSVRC2015_val_00043001', 'ILSVRC2015_val_00043002', 'ILSVRC2015_val_00044000', 'ILSVRC2015_val_00044001', 'ILSVRC2015_val_00044002', 'ILSVRC2015_val_00044003', 'ILSVRC2015_val_00044004', 'ILSVRC2015_val_00044005', 'ILSVRC2015_val_00044006', 'ILSVRC2015_val_00044007', 'ILSVRC2015_val_00044008', 'ILSVRC2015_val_00044009', 'ILSVRC2015_val_00044010', 'ILSVRC2015_val_00044011', 'ILSVRC2015_val_00044012', 'ILSVRC2015_val_00044013', 'ILSVRC2015_val_00044014', 'ILSVRC2015_val_00044015', 'ILSVRC2015_val_00044016', 'ILSVRC2015_val_00044017', 'ILSVRC2015_val_00044018', 'ILSVRC2015_val_00044019', 'ILSVRC2015_val_00044020', 'ILSVRC2015_val_00044021', 'ILSVRC2015_val_00044022', 'ILSVRC2015_val_00044023', 'ILSVRC2015_val_00044024', 'ILSVRC2015_val_00044025', 'ILSVRC2015_val_00045000', 'ILSVRC2015_val_00045001', 'ILSVRC2015_val_00046000', 'ILSVRC2015_val_00046001', 'ILSVRC2015_val_00046002', 'ILSVRC2015_val_00046003', 'ILSVRC2015_val_00047000', 'ILSVRC2015_val_00048000', 'ILSVRC2015_val_00048001', 'ILSVRC2015_val_00048002', 'ILSVRC2015_val_00048003', 'ILSVRC2015_val_00048004', 'ILSVRC2015_val_00048005', 'ILSVRC2015_val_00048006', 'ILSVRC2015_val_00048007', 'ILSVRC2015_val_00048008', 'ILSVRC2015_val_00049000', 'ILSVRC2015_val_00050000', 'ILSVRC2015_val_00051000', 'ILSVRC2015_val_00051001', 'ILSVRC2015_val_00052000', 'ILSVRC2015_val_00053000', 'ILSVRC2015_val_00053001', 'ILSVRC2015_val_00053002', 'ILSVRC2015_val_00054000', 'ILSVRC2015_val_00055000', 'ILSVRC2015_val_00056000', 'ILSVRC2015_val_00056001', 'ILSVRC2015_val_00056002', 'ILSVRC2015_val_00057000', 'ILSVRC2015_val_00058000', 'ILSVRC2015_val_00059000', 'ILSVRC2015_val_00060000', 'ILSVRC2015_val_00060001', 'ILSVRC2015_val_00061000', 'ILSVRC2015_val_00062000', 'ILSVRC2015_val_00063000', 'ILSVRC2015_val_00063001', 'ILSVRC2015_val_00063002', 'ILSVRC2015_val_00064000', 'ILSVRC2015_val_00065000', 'ILSVRC2015_val_00066000', 'ILSVRC2015_val_00067000', 'ILSVRC2015_val_00068000', 'ILSVRC2015_val_00068001', 'ILSVRC2015_val_00069000', 'ILSVRC2015_val_00069001', 'ILSVRC2015_val_00069002', 'ILSVRC2015_val_00069003', 'ILSVRC2015_val_00069004', 'ILSVRC2015_val_00069005', 'ILSVRC2015_val_00070000', 'ILSVRC2015_val_00071000', 'ILSVRC2015_val_00072000', 'ILSVRC2015_val_00072001', 'ILSVRC2015_val_00073000', 'ILSVRC2015_val_00074000', 'ILSVRC2015_val_00075000', 'ILSVRC2015_val_00075001', 'ILSVRC2015_val_00075002', 'ILSVRC2015_val_00076000', 'ILSVRC2015_val_00076001', 'ILSVRC2015_val_00076002', 'ILSVRC2015_val_00077000', 'ILSVRC2015_val_00078000', 'ILSVRC2015_val_00078001', 'ILSVRC2015_val_00079000', 'ILSVRC2015_val_00080000', 'ILSVRC2015_val_00080001', 'ILSVRC2015_val_00080002', 'ILSVRC2015_val_00080003', 'ILSVRC2015_val_00081000', 'ILSVRC2015_val_00081001', 'ILSVRC2015_val_00082000', 'ILSVRC2015_val_00082001', 'ILSVRC2015_val_00083000', 'ILSVRC2015_val_00084000', 'ILSVRC2015_val_00085000', 'ILSVRC2015_val_00086000', 'ILSVRC2015_val_00087000', 'ILSVRC2015_val_00088000', 'ILSVRC2015_val_00089000', 'ILSVRC2015_val_00090000', 'ILSVRC2015_val_00091000', 'ILSVRC2015_val_00091001', 'ILSVRC2015_val_00092000', 'ILSVRC2015_val_00093000', 'ILSVRC2015_val_00094000', 'ILSVRC2015_val_00094001', 'ILSVRC2015_val_00094002', 'ILSVRC2015_val_00094003', 'ILSVRC2015_val_00095000', 'ILSVRC2015_val_00095001', 'ILSVRC2015_val_00096000', 'ILSVRC2015_val_00097000', 'ILSVRC2015_val_00098000', 'ILSVRC2015_val_00099000', 'ILSVRC2015_val_00099001', 'ILSVRC2015_val_00099002', 'ILSVRC2015_val_00100000', 'ILSVRC2015_val_00100001', 'ILSVRC2015_val_00101000', 'ILSVRC2015_val_00102000', 'ILSVRC2015_val_00103000', 'ILSVRC2015_val_00103001', 'ILSVRC2015_val_00104000', 'ILSVRC2015_val_00105000', 'ILSVRC2015_val_00106000', 'ILSVRC2015_val_00106001', 'ILSVRC2015_val_00107000', 'ILSVRC2015_val_00108000', 'ILSVRC2015_val_00109000', 'ILSVRC2015_val_00110000', 'ILSVRC2015_val_00111000', 'ILSVRC2015_val_00112000', 'ILSVRC2015_val_00113000', 'ILSVRC2015_val_00114000', 'ILSVRC2015_val_00115000', 'ILSVRC2015_val_00116000', 'ILSVRC2015_val_00117000', 'ILSVRC2015_val_00118000', 'ILSVRC2015_val_00118001', 'ILSVRC2015_val_00118002', 'ILSVRC2015_val_00118003', 'ILSVRC2015_val_00118004', 'ILSVRC2015_val_00118005', 'ILSVRC2015_val_00118006', 'ILSVRC2015_val_00118007', 'ILSVRC2015_val_00118008', 'ILSVRC2015_val_00118009', 'ILSVRC2015_val_00118010', 'ILSVRC2015_val_00119000', 'ILSVRC2015_val_00119001', 'ILSVRC2015_val_00120000', 'ILSVRC2015_val_00121000', 'ILSVRC2015_val_00122000', 'ILSVRC2015_val_00123000', 'ILSVRC2015_val_00123001', 'ILSVRC2015_val_00123002', 'ILSVRC2015_val_00123003', 'ILSVRC2015_val_00123004', 'ILSVRC2015_val_00124000', 'ILSVRC2015_val_00124001', 'ILSVRC2015_val_00124002', 'ILSVRC2015_val_00125000', 'ILSVRC2015_val_00126000', 'ILSVRC2015_val_00127000', 'ILSVRC2015_val_00127001', 'ILSVRC2015_val_00127002', 'ILSVRC2015_val_00127003', 'ILSVRC2015_val_00127004', 'ILSVRC2015_val_00127005', 'ILSVRC2015_val_00127006', 'ILSVRC2015_val_00128000', 'ILSVRC2015_val_00128001', 'ILSVRC2015_val_00129000', 'ILSVRC2015_val_00130000', 'ILSVRC2015_val_00131000', 'ILSVRC2015_val_00131001', 'ILSVRC2015_val_00131002', 'ILSVRC2015_val_00131003', 'ILSVRC2015_val_00132000', 'ILSVRC2015_val_00133000', 'ILSVRC2015_val_00133001', 'ILSVRC2015_val_00133002', 'ILSVRC2015_val_00133003', 'ILSVRC2015_val_00133004', 'ILSVRC2015_val_00133005', 'ILSVRC2015_val_00134000', 'ILSVRC2015_val_00135000', 'ILSVRC2015_val_00135001', 'ILSVRC2015_val_00135002', 'ILSVRC2015_val_00136000', 'ILSVRC2015_val_00137000', 'ILSVRC2015_val_00138000', 'ILSVRC2015_val_00139000', 'ILSVRC2015_val_00139001', 'ILSVRC2015_val_00140000', 'ILSVRC2015_val_00141000', 'ILSVRC2015_val_00142000', 'ILSVRC2015_val_00143000', 'ILSVRC2015_val_00143001', 'ILSVRC2015_val_00143002', 'ILSVRC2015_val_00143003', 'ILSVRC2015_val_00143004', 'ILSVRC2015_val_00144000', 'ILSVRC2015_val_00145000', 'ILSVRC2015_val_00146000', 'ILSVRC2015_val_00146001', 'ILSVRC2015_val_00146002', 'ILSVRC2015_val_00147000', 'ILSVRC2015_val_00148000', 'ILSVRC2015_val_00149000', 'ILSVRC2015_val_00149001', 'ILSVRC2015_val_00149002', 'ILSVRC2015_val_00149003', 'ILSVRC2015_val_00150000', 'ILSVRC2015_val_00150001', 'ILSVRC2015_val_00150002', 'ILSVRC2015_val_00150003', 'ILSVRC2015_val_00151000', 'ILSVRC2015_val_00151001', 'ILSVRC2015_val_00152000', 'ILSVRC2015_val_00153000', 'ILSVRC2015_val_00153001', 'ILSVRC2015_val_00154000', 'ILSVRC2015_val_00154001', 'ILSVRC2015_val_00154002', 'ILSVRC2015_val_00154003', 'ILSVRC2015_val_00155000', 'ILSVRC2015_val_00156000', 'ILSVRC2015_val_00157000', 'ILSVRC2015_val_00158000', 'ILSVRC2015_val_00159000', 'ILSVRC2015_val_00159001', 'ILSVRC2015_val_00159002', 'ILSVRC2015_val_00160000', 'ILSVRC2015_val_00161000', 'ILSVRC2015_val_00161001', 'ILSVRC2015_val_00161002', 'ILSVRC2015_val_00162000', 'ILSVRC2015_val_00162001', 'ILSVRC2015_val_00163000', 'ILSVRC2015_val_00164000', 'ILSVRC2015_val_00165000', 'ILSVRC2015_val_00165001', 'ILSVRC2015_val_00165002', 'ILSVRC2015_val_00165003', 'ILSVRC2015_val_00166000', 'ILSVRC2015_val_00167000', 'ILSVRC2015_val_00168000', 'ILSVRC2015_val_00169000', 'ILSVRC2015_val_00170000', 'ILSVRC2015_val_00170001', 'ILSVRC2015_val_00170002', 'ILSVRC2015_val_00170003', 'ILSVRC2015_val_00171000', 'ILSVRC2015_val_00172000', 'ILSVRC2015_val_00173000', 'ILSVRC2015_val_00173001', 'ILSVRC2015_val_00173002', 'ILSVRC2015_val_00173003', 'ILSVRC2015_val_00173004', 'ILSVRC2015_val_00174000', 'ILSVRC2015_val_00175000', 'ILSVRC2015_val_00176000', 'ILSVRC2015_val_00176001', 'ILSVRC2015_val_00176002', 'ILSVRC2015_val_00176003', 'ILSVRC2015_val_00177000', 'ILSVRC2015_val_00177001']"
   ]
  },
  {
   "cell_type": "code",
   "execution_count": 3,
   "metadata": {
    "collapsed": true
   },
   "outputs": [],
   "source": [
    "classes = ('airplane', 'antelope', 'bear', 'bicycle', 'bird', 'bus',\n",
    "           'car', 'cattle', 'dog', 'domestic cat', 'elephant', 'fox',\n",
    "           'giant panda', 'hamster', 'horse', 'lion', 'lizard', 'monkey',\n",
    "           'motorcycle', 'rabbit', 'red panda', 'sheep', 'snake', 'squirrel',\n",
    "           'tiger', 'train', 'turtle', 'watercraft', 'whale', 'zebra')"
   ]
  },
  {
   "cell_type": "code",
   "execution_count": 4,
   "metadata": {},
   "outputs": [],
   "source": [
    "import scipy.io as sio\n",
    "devkit_path = '../data/imagenet/devkit'\n",
    "####VID object info####\n",
    "synsets_video = sio.loadmat(os.path.join(devkit_path,'data','meta_vid.mat'))\n",
    "_wnid = ()\n",
    "_classes = ()\n",
    "for i in range(30):\n",
    "    _classes = _classes + (synsets_video['synsets'][0][i][2][0],)\n",
    "    _wnid = _wnid + (synsets_video['synsets'][0][i][1][0],)\n",
    "\n",
    "_wnid_to_ind = dict(zip(_wnid, range(30)))\n",
    "_class_to_ind = dict(zip(_classes, range(30)))\n",
    "def read_annotation(annPath,prefix=''):\n",
    "    filename = annPath\n",
    "    assert os.path.exists(filename),'%s'%(filename)\n",
    "    # print 'Loading: {}'.format(filename)\n",
    "    def get_data_from_tag(node, tag):\n",
    "        return node.getElementsByTagName(tag)[0].childNodes[0].data\n",
    "\n",
    "    with open(filename) as f:\n",
    "        data = minidom.parseString(f.read())\n",
    "    \n",
    "    folder_path = data.getElementsByTagName('folder')[0].childNodes[0].data\n",
    "    img_index = data.getElementsByTagName('filename')[0].childNodes[0].data\n",
    "    img_path = osp.join(prefix,folder_path, img_index+'.JPEG')\n",
    "    objs = data.getElementsByTagName('object')\n",
    "    num_objs = len(objs)\n",
    "    \n",
    "    boxes = np.zeros((num_objs, 4), dtype=np.int32)\n",
    "    gt_classes = np.zeros(num_objs,dtype=np.int32)\n",
    "    # Load object bounding boxes into a data frame.\n",
    "    for ix, obj in enumerate(objs):\n",
    "        x1 = float(get_data_from_tag(obj, 'xmin'))\n",
    "        y1 = float(get_data_from_tag(obj, 'ymin'))\n",
    "        x2 = float(get_data_from_tag(obj, 'xmax'))\n",
    "        y2 = float(get_data_from_tag(obj, 'ymax'))\n",
    "        cls = _wnid_to_ind[\n",
    "                str(get_data_from_tag(obj, \"name\")).lower().strip()]\n",
    "        boxes[ix, :] = [x1, y1, x2, y2]\n",
    "        gt_classes[ix] = cls\n",
    "    return img_path, boxes, gt_classes"
   ]
  },
  {
   "cell_type": "code",
   "execution_count": 5,
   "metadata": {
    "collapsed": true
   },
   "outputs": [],
   "source": [
    "def view(pkl_path, ann_dir, show_thr=0.2, show_class=True, outdir=None,dpi = 100,ext='pdf'):\n",
    "    assert ext in ['pdf','png']\n",
    "    results = mmcv.load(pkl_path)\n",
    "    length = len(results)\n",
    "    for idx in tqdm(range(length)):\n",
    "        annPath = osp.join(ann_dir, '%06d.xml'%(idx))\n",
    "        img_path, gt_boxes, gt_classes = read_annotation(annPath,prefix='../data/imagenet/Data/VID/val')\n",
    "        im2show = np.array(PIL.Image.open(img_path))\n",
    "        fig = plt.figure(frameon=False)\n",
    "        fig.set_size_inches(im2show.shape[1] / dpi, im2show.shape[0] / dpi)\n",
    "        ax = plt.Axes(fig, [0., 0., 1., 1.])\n",
    "        ax.axis('off')\n",
    "        fig.add_axes(ax)\n",
    "        ax.imshow(im2show)\n",
    "        #draw gt first\n",
    "        '''\n",
    "        for j in range(len(gt_classes)):\n",
    "            ax.add_patch(\n",
    "            plt.Rectangle((gt_boxes[j][0], gt_boxes[j][1]),\n",
    "                          gt_boxes[j][2] - gt_boxes[j][0],\n",
    "                          gt_boxes[j][3] - gt_boxes[j][1],\n",
    "                          fill=False, edgecolor='g',\n",
    "                          linewidth=3.0, alpha=0.8))\n",
    "            if show_class:\n",
    "                ax.text(gt_boxes[j][0], gt_boxes[j][1] - 2,\n",
    "                '%s %f'%(classes[gt_classes[j]], 1.0),\n",
    "                fontsize=10,\n",
    "                #family='serif',\n",
    "                bbox=dict(facecolor='g', alpha=0.4, pad=0, edgecolor='none'),\n",
    "                    color='white')\n",
    "        '''\n",
    "        result = results[idx]\n",
    "        cls_num = len(result)\n",
    "        for cls_id in range(cls_num):\n",
    "            dets = result[cls_id]\n",
    "            boxes = dets[:,:4]\n",
    "            box_classes = dets[:,4]\n",
    "            for j in range(len(dets)):\n",
    "                if box_classes[j]>show_thr:\n",
    "                    ax.add_patch(\n",
    "                    plt.Rectangle((boxes[j][0], boxes[j][1]),\n",
    "                                  boxes[j][2] - boxes[j][0],\n",
    "                                  boxes[j][3] - boxes[j][1],\n",
    "                                  fill=False, edgecolor='y',\n",
    "                                  linewidth=3.0, alpha=0.8))\n",
    "                    if show_class:\n",
    "                        ax.text(boxes[j][0], boxes[j][1] - 2,\n",
    "                        '%s %f'%(classes[cls_id], box_classes[j]),\n",
    "                        fontsize=10,\n",
    "                        #family='serif',\n",
    "                        bbox=dict(facecolor='y', alpha=0.4, pad=0, edgecolor='none'),\n",
    "                            color='white')\n",
    "        if outdir is not None:\n",
    "            output_name = '%06d.%s'%(idx,ext)\n",
    "            fig.savefig(os.path.join(outdir, '{}'.format(output_name)), dpi=dpi)\n",
    "            plt.close('all')\n",
    "        else:\n",
    "            plt.show()"
   ]
  },
  {
   "cell_type": "code",
   "execution_count": 6,
   "metadata": {
    "collapsed": true
   },
   "outputs": [],
   "source": [
    "def checkCreateDir(path):\n",
    "    if not osp.exists(path):\n",
    "        os.makedirs(path)\n",
    "    assert osp.exists(path), 'Path not exists %s'%(path)"
   ]
  },
  {
   "cell_type": "code",
   "execution_count": 7,
   "metadata": {},
   "outputs": [],
   "source": [
    "def merge_pdfs(dirpath, merge_pdfs_outpath):\n",
    "    command = \"pdfunite {}/*.pdf {}\".format(dirpath,\n",
    "                                            merge_pdfs_outpath)\n",
    "    subprocess.call(command, shell=True)"
   ]
  },
  {
   "cell_type": "code",
   "execution_count": 8,
   "metadata": {
    "collapsed": true
   },
   "outputs": [],
   "source": [
    "import glob\n",
    "import cv2\n",
    "from cv2 import VideoWriter, VideoWriter_fourcc, imread, resize\n",
    "def merge_pngs(dirpath, merge_vid_outpath, fps=15, size=None, is_color=True, format=\"MP4V\",):\n",
    "    images = glob.glob1(dirpath,'*.png')\n",
    "    fourcc = VideoWriter_fourcc(*format)\n",
    "    vid = None\n",
    "    for idx in range(len(images)):\n",
    "        image = osp.join(dirpath, '%06d.png'%(idx))\n",
    "        if not osp.exists(image):\n",
    "            raise FileNotFoundError(image)\n",
    "        img = imread(image)\n",
    "        if vid is None:\n",
    "            if size is None:\n",
    "                size = img.shape[1], img.shape[0]\n",
    "            vid = VideoWriter(merge_vid_outpath, fourcc, float(fps), size, is_color)\n",
    "        if size[0] != img.shape[1] and size[1] != img.shape[0]:\n",
    "            img = resize(img, size)\n",
    "        vid.write(img)\n",
    "    vid.release()\n",
    "    return vid"
   ]
  },
  {
   "cell_type": "code",
   "execution_count": 9,
   "metadata": {},
   "outputs": [],
   "source": [
    "def showPKL(vid_ids, pkl_dir, save_dir, ext = 'pdf'):\n",
    "    txt_path = '../data/imagenet/ImageSets/VID_val.txt'\n",
    "    ann_val_dir = '../data/imagenet/Annotations/VID/val'\n",
    "    dir_list = vids\n",
    "    '''\n",
    "    # if dir_list is not known, run the following.\n",
    "    with open(txt_path) as f:\n",
    "        lines = f.readlines()\n",
    "        for line in lines:\n",
    "            vdir = osp.dirname(line.split()[0])\n",
    "            if not vdir in dir_list:\n",
    "                dir_list.append(vdir)\n",
    "    '''\n",
    "    for vid_id in vid_ids:\n",
    "        pkl_path = osp.join(pkl_dir,'%06d.pkl'%(vid_id))\n",
    "        ann_dir = osp.join(ann_val_dir, dir_list[vid_id])\n",
    "        out_dir = osp.join(save_dir,'view_pkl/%06d'%(vid_id))\n",
    "        merge_dir = osp.join(save_dir,'view_pkl_merged')\n",
    "        checkCreateDir(out_dir)\n",
    "        checkCreateDir(merge_dir)\n",
    "        view(pkl_path, ann_dir, outdir = out_dir,ext=ext)\n",
    "        if ext is 'pdf':\n",
    "            merge_pdfs_outpath = osp.join(merge_dir, '%06d.pdf'%(vid_id))\n",
    "            merge_pdfs(out_dir, merge_pdfs_outpath)\n",
    "        elif ext is 'png':\n",
    "            merge_pngs_outpath = osp.join(merge_dir, '%06d.mp4'%(vid_id))\n",
    "            merge_pngs(out_dir, merge_pngs_outpath)\n",
    "        else:\n",
    "            raise ValueError('file extension not correct.')"
   ]
  },
  {
   "cell_type": "code",
   "execution_count": 14,
   "metadata": {},
   "outputs": [
    {
     "name": "stderr",
     "output_type": "stream",
     "text": [
      "100%|██████████| 284/284 [01:46<00:00,  2.89it/s]\n",
      "100%|██████████| 341/341 [02:09<00:00,  2.67it/s]\n",
      "100%|██████████| 103/103 [00:15<00:00,  7.12it/s]\n",
      "100%|██████████| 59/59 [00:09<00:00,  7.51it/s]\n",
      "100%|██████████| 690/690 [01:59<00:00,  5.48it/s]\n",
      "100%|██████████| 690/690 [02:01<00:00,  5.16it/s]\n",
      "100%|██████████| 181/181 [00:26<00:00,  5.96it/s]\n",
      "100%|██████████| 430/430 [01:09<00:00,  6.82it/s]\n",
      "100%|██████████| 610/610 [01:36<00:00,  7.00it/s]\n",
      "100%|██████████| 160/160 [00:16<00:00,  9.40it/s]\n"
     ]
    }
   ],
   "source": [
    "vid_ids=list(range(180,190))\n",
    "pkl_dir = '../work_dirs/VID_val_pkls_output_siamesercnn_thick_feat_OHEM'\n",
    "save_dir = '../work_dirs/view_siamese_rcnn_thick_feat_OHEM'\n",
    "showPKL(vid_ids,pkl_dir,save_dir,ext='png')"
   ]
  },
  {
   "cell_type": "code",
   "execution_count": null,
   "metadata": {
    "collapsed": true
   },
   "outputs": [],
   "source": []
  }
 ],
 "metadata": {
  "kernelspec": {
   "display_name": "Python 3",
   "language": "python",
   "name": "python3"
  },
  "language_info": {
   "codemirror_mode": {
    "name": "ipython",
    "version": 3
   },
   "file_extension": ".py",
   "mimetype": "text/x-python",
   "name": "python",
   "nbconvert_exporter": "python",
   "pygments_lexer": "ipython3",
   "version": "3.6.1"
  }
 },
 "nbformat": 4,
 "nbformat_minor": 2
}
